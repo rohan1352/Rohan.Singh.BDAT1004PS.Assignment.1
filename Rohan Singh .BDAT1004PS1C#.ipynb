{
 "cells": [
  {
   "cell_type": "code",
   "execution_count": null,
   "id": "3e9c0849",
   "metadata": {},
   "outputs": [],
   "source": [
    "# Question 6 \n",
    "# You can turn a word into pig-Latin using the following two rules (simplified): \n",
    "#• If the word starts with a consonant, move that letter to the end and append 'ay'. \n",
    "# For example, 'happy' becomes 'appyhay' and 'pencil' becomes 'encilpay'. \n",
    "#• If the word starts with a vowel, simply append 'way' to the end of the word. \n",
    "# For example, 'enter' becomes 'enterway' and 'other' becomes 'otherway' . \n",
    "# For our purposes, there are 5 vowels: a, e, i, o, u (so we count y as a consonant). \n",
    "# Write a function pig() that takes a word (i.e., a string) as input and returns its pigLatin form. \n",
    "# Your function should still work if the input word contains upper case characters. \n",
    "# Your output should always be lower case however.  "
   ]
  },
  {
   "cell_type": "code",
   "execution_count": 31,
   "id": "a8ca894d",
   "metadata": {},
   "outputs": [],
   "source": [
    "def pig(letter):                                  \n",
    "    \n",
    "    vowelWords=('a', 'e', 'i', 'o', 'u')            \n",
    "    \n",
    "    if letter[0] in vowelWords:                     \n",
    "        print(letter.lower()+\"way\")            \n",
    "    \n",
    "    else:     \n",
    "        char=letter[1:len(letter)]                         \n",
    "        print(char.lower()+letter[0].lower()+\"way\")       "
   ]
  },
  {
   "cell_type": "code",
   "execution_count": 32,
   "id": "ecaf8e11",
   "metadata": {},
   "outputs": [
    {
     "name": "stdout",
     "output_type": "stream",
     "text": [
      "appyhway\n"
     ]
    }
   ],
   "source": [
    "pig('happy')"
   ]
  },
  {
   "cell_type": "code",
   "execution_count": 33,
   "id": "4597c35a",
   "metadata": {},
   "outputs": [
    {
     "name": "stdout",
     "output_type": "stream",
     "text": [
      "enterway\n"
     ]
    }
   ],
   "source": [
    "pig('enter')"
   ]
  },
  {
   "cell_type": "code",
   "execution_count": null,
   "id": "a853036a",
   "metadata": {},
   "outputs": [],
   "source": [
    "# Question 7 File bloodtype1.txt records blood-types of patients (A, B, AB, O or OO) at a clinic. \n",
    "# Write a function bldcount() that reads the file with name name and reports (i.e., prints) how many patients there are in \n",
    "# each bloodtype.\n",
    "\n",
    "# bloodtype1.txt = AB AB B O A A AB O AB A O O A A A O O O AB O A A A A A AB AB A AB O AB O A O O O AB O AB AB AB A A O         "
   ]
  },
  {
   "cell_type": "code",
   "execution_count": 34,
   "id": "e8c1d97a",
   "metadata": {},
   "outputs": [
    {
     "ename": "NameError",
     "evalue": "name 'bldcount' is not defined",
     "output_type": "error",
     "traceback": [
      "\u001b[1;31m---------------------------------------------------------------------------\u001b[0m",
      "\u001b[1;31mNameError\u001b[0m                                 Traceback (most recent call last)",
      "Input \u001b[1;32mIn [34]\u001b[0m, in \u001b[0;36m<cell line: 30>\u001b[1;34m()\u001b[0m\n\u001b[0;32m     28\u001b[0m     \u001b[38;5;28mprint\u001b[39m(\u001b[38;5;124mf\u001b[39m\u001b[38;5;124m\"\u001b[39m\u001b[38;5;124mThere are \u001b[39m\u001b[38;5;132;01m{\u001b[39;00mbldOO\u001b[38;5;132;01m}\u001b[39;00m\u001b[38;5;124m  patients of blood type OO.\u001b[39m\u001b[38;5;124m\"\u001b[39m)\n\u001b[0;32m     29\u001b[0m     n\u001b[38;5;241m.\u001b[39mclear()\n\u001b[1;32m---> 30\u001b[0m \u001b[43mbldcount\u001b[49m(\u001b[38;5;124m\"\u001b[39m\u001b[38;5;124mbloodtype.txt\u001b[39m\u001b[38;5;124m\"\u001b[39m)\n",
      "\u001b[1;31mNameError\u001b[0m: name 'bldcount' is not defined"
     ]
    }
   ],
   "source": [
    "def bloodCount(n):\n",
    "    n = open(n)\n",
    "    n = n.readline()\n",
    "    n = n.split()\n",
    "    #print(len(n))\n",
    "    bldA = 0\n",
    "    bldB = 0\n",
    "    bldAB = 0\n",
    "    bldO = 0\n",
    "    bldOO = 0\n",
    "    for m in n:\n",
    "        if x == 'A':\n",
    "            bldA += 1\n",
    "        elif x == 'B':\n",
    "            bldB += 1\n",
    "        elif x == 'AB':\n",
    "            bldAB += 1\n",
    "        elif x == 'O':\n",
    "            bldO += 1\n",
    "        elif x == 'OO':\n",
    "            bldOO += 1\n",
    "        else:\n",
    "            pass\n",
    "    print(f\"There are {bldA}  patients of blood type A.\")\n",
    "    print(f\"There are {bldB}  patients of blood type B.\")\n",
    "    print(f\"There are {bldAB}  patients of blood type AB.\")\n",
    "    print(f\"There are {bldO}  patients of blood type O.\")\n",
    "    print(f\"There are {bldOO}  patients of blood type OO.\")\n",
    "    n.clear()\n",
    "bldcount(\"bloodtype.txt\")"
   ]
  },
  {
   "cell_type": "code",
   "execution_count": null,
   "id": "5db17fe8",
   "metadata": {},
   "outputs": [],
   "source": [
    "#Question 8 \n",
    "#Write a function curconv() that takes as input:\n",
    "#1. a currency represented using a string (e.g., 'JPY' for the Japanese Yen or 'EUR' for the Euro)\n",
    "#2. an amount\n",
    "#and then converts and returns the amount in US dollars.\n",
    "#>>> curconv('EUR', 100)\n",
    "#122.96544\n",
    "#>>> curconv('JPY', 100)\n",
    "#1.241401\n",
    "#The currency rates you will need are stored in file currencies.txt:\n",
    "#AUD 1.0345157 Australian Dollar\n",
    "#CHF 1.0237414 Swiss Franc\n",
    "#CNY 0.1550176 Chinese Yuan\n",
    "#DKK 0.1651442 Danish Krone\n",
    "#EUR 1.2296544 Euro\n",
    "#GBP 1.5550989 British Pound\n",
    "#HKD 0.1270207 Hong Kong Dollar\n",
    "#INR 0.0177643 Indian Rupee\n",
    "#JPY 0.01241401 Japanese Yen\n",
    "#MXN 0.0751848 Mexican Peso\n",
    "#MYR 0.3145411 Malaysian Ringgit\n",
    "#NOK 0.1677063 Norwegian Krone\n",
    "#NZD 0.8003591 New Zealand Dollar\n",
    "#PHP 0.0233234 Philippine Peso\n",
    "#SEK 0.148269 Swedish Krona\n",
    "#SGD 0.788871 Singapore Dollar\n",
    "#THB 0.0313789 Thai Baht"
   ]
  },
  {
   "cell_type": "code",
   "execution_count": 24,
   "id": "d45d3b32",
   "metadata": {},
   "outputs": [
    {
     "data": {
      "text/plain": [
       "122.96544"
      ]
     },
     "execution_count": 24,
     "metadata": {},
     "output_type": "execute_result"
    }
   ],
   "source": [
    "a1 = '''AUD 1.0345157\n",
    "CHF 1.0237414\n",
    "CNY 0.1550176\n",
    "DKK 0.1651442\n",
    "EUR 1.2296544\n",
    "GBP 1.5550989\n",
    "HKD 0.1270207\n",
    "INR 0.0177643\n",
    "JPY 0.0124140\n",
    "MXN 0.0751848\n",
    "MYR 0.3145411\n",
    "NOK 0.1677063\n",
    "NZD 0.8003591\n",
    "PHP 0.0233234\n",
    "SEK 0.148269 \n",
    "SGD 0.788871 \n",
    "THB 0.0313789'''\n",
    "\n",
    "\n",
    "a1 = a1.split(\"\\n\")\n",
    "# print(a1)\n",
    "currencyDic = {}\n",
    "for line in a1:\n",
    "    line = line.split(\" \")\n",
    "#     print(line)\n",
    "    cur = line[0]\n",
    "    con = line[1]\n",
    "    currencyDic[cur]=con\n",
    "\n",
    "# print(currencyDic)\n",
    "# print (type(currencyDic))\n",
    "\n",
    "    \n",
    "def curconv(currency,amount):\n",
    "    value = float(currencyDic[currency])\n",
    "    result = int(amount) * value\n",
    "    return result\n",
    "        \n",
    "curconv('EUR',100)"
   ]
  },
  {
   "cell_type": "code",
   "execution_count": null,
   "id": "d550a406",
   "metadata": {},
   "outputs": [],
   "source": [
    "# Question 9\n",
    "# Each of the following will cause an exception (an error). Identify what type of exception each will cause. "
   ]
  },
  {
   "cell_type": "code",
   "execution_count": 34,
   "id": "39b1786b",
   "metadata": {},
   "outputs": [
    {
     "ename": "SyntaxError",
     "evalue": "invalid character '‘' (U+2018) (758365940.py, line 4)",
     "output_type": "error",
     "traceback": [
      "\u001b[1;36m  Input \u001b[1;32mIn [34]\u001b[1;36m\u001b[0m\n\u001b[1;33m    6 + ‘a’\u001b[0m\n\u001b[1;37m        ^\u001b[0m\n\u001b[1;31mSyntaxError\u001b[0m\u001b[1;31m:\u001b[0m invalid character '‘' (U+2018)\n"
     ]
    }
   ],
   "source": [
    "# a\n",
    "# Trying to add incompatible variables, as in adding 6 + ‘a’ \n",
    "\n",
    "6 + ‘a’ \n",
    "\n",
    "# SyntaxError: invalid character in identifier           ##strings and integers cannot be added together\n",
    "  "
   ]
  },
  {
   "cell_type": "code",
   "execution_count": 33,
   "id": "e1325208",
   "metadata": {},
   "outputs": [
    {
     "ename": "IndexError",
     "evalue": "list index out of range",
     "output_type": "error",
     "traceback": [
      "\u001b[1;31m---------------------------------------------------------------------------\u001b[0m",
      "\u001b[1;31mIndexError\u001b[0m                                Traceback (most recent call last)",
      "Input \u001b[1;32mIn [33]\u001b[0m, in \u001b[0;36m<cell line: 5>\u001b[1;34m()\u001b[0m\n\u001b[0;32m      1\u001b[0m \u001b[38;5;66;03m# b \u001b[39;00m\n\u001b[0;32m      2\u001b[0m \u001b[38;5;66;03m# Referring to the 12th item of a list that has only 10 items \u001b[39;00m\n\u001b[0;32m      4\u001b[0m A\u001b[38;5;241m=\u001b[39m[\u001b[38;5;241m1\u001b[39m,\u001b[38;5;241m2\u001b[39m,\u001b[38;5;241m3\u001b[39m,\u001b[38;5;241m4\u001b[39m,\u001b[38;5;241m5\u001b[39m,\u001b[38;5;241m6\u001b[39m,\u001b[38;5;241m7\u001b[39m,\u001b[38;5;241m8\u001b[39m,\u001b[38;5;241m9\u001b[39m,\u001b[38;5;241m0\u001b[39m]\n\u001b[1;32m----> 5\u001b[0m \u001b[43mA\u001b[49m\u001b[43m[\u001b[49m\u001b[38;5;241;43m12\u001b[39;49m\u001b[43m]\u001b[49m\n",
      "\u001b[1;31mIndexError\u001b[0m: list index out of range"
     ]
    }
   ],
   "source": [
    "# b \n",
    "# Referring to the 12th item of a list that has only 10 items \n",
    "\n",
    "A=[1,2,3,4,5,6,7,8,9,0]\n",
    "A[12]\n",
    "\n",
    "# IndexError: list index out of range   ### THIS is because 12th place number doesnt "
   ]
  },
  {
   "cell_type": "code",
   "execution_count": 35,
   "id": "67a05058",
   "metadata": {},
   "outputs": [
    {
     "ename": "ValueError",
     "evalue": "math domain error",
     "output_type": "error",
     "traceback": [
      "\u001b[1;31m---------------------------------------------------------------------------\u001b[0m",
      "\u001b[1;31mValueError\u001b[0m                                Traceback (most recent call last)",
      "Input \u001b[1;32mIn [35]\u001b[0m, in \u001b[0;36m<cell line: 5>\u001b[1;34m()\u001b[0m\n\u001b[0;32m      1\u001b[0m \u001b[38;5;66;03m# c\u001b[39;00m\n\u001b[0;32m      2\u001b[0m \u001b[38;5;66;03m# Using a value that is out of range for a function’s input, such as calling math.sqrt(-1.0)  \u001b[39;00m\n\u001b[0;32m      4\u001b[0m \u001b[38;5;28;01mimport\u001b[39;00m \u001b[38;5;21;01mmath\u001b[39;00m\n\u001b[1;32m----> 5\u001b[0m \u001b[43mmath\u001b[49m\u001b[38;5;241;43m.\u001b[39;49m\u001b[43msqrt\u001b[49m\u001b[43m(\u001b[49m\u001b[38;5;241;43m-\u001b[39;49m\u001b[38;5;241;43m1.0\u001b[39;49m\u001b[43m)\u001b[49m\n",
      "\u001b[1;31mValueError\u001b[0m: math domain error"
     ]
    }
   ],
   "source": [
    "# c\n",
    "# Using a value that is out of range for a function’s input, such as calling math.sqrt(-1.0)  \n",
    "\n",
    "import math\n",
    "math.sqrt(-1.0)\n",
    "\n",
    "# ValueError: math domain error   ###we cannot define square root of negative nu"
   ]
  },
  {
   "cell_type": "code",
   "execution_count": 36,
   "id": "413f44c2",
   "metadata": {},
   "outputs": [
    {
     "ename": "NameError",
     "evalue": "name 'x' is not defined",
     "output_type": "error",
     "traceback": [
      "\u001b[1;31m---------------------------------------------------------------------------\u001b[0m",
      "\u001b[1;31mNameError\u001b[0m                                 Traceback (most recent call last)",
      "Input \u001b[1;32mIn [36]\u001b[0m, in \u001b[0;36m<cell line: 4>\u001b[1;34m()\u001b[0m\n\u001b[0;32m      1\u001b[0m \u001b[38;5;66;03m# d\u001b[39;00m\n\u001b[0;32m      2\u001b[0m \u001b[38;5;66;03m# Using an undeclared variable, such as print(x) when x has not been defined \u001b[39;00m\n\u001b[1;32m----> 4\u001b[0m \u001b[38;5;28mprint\u001b[39m(\u001b[43mx\u001b[49m)\n",
      "\u001b[1;31mNameError\u001b[0m: name 'x' is not defined"
     ]
    }
   ],
   "source": [
    "# d\n",
    "# Using an undeclared variable, such as print(x) when x has not been defined \n",
    "\n",
    "print(x)\n",
    "\n",
    "#NameError: name 'x' is not defined     ##x is not defined, need to define x in order"
   ]
  },
  {
   "cell_type": "code",
   "execution_count": 37,
   "id": "c8947856",
   "metadata": {},
   "outputs": [
    {
     "ename": "FileNotFoundError",
     "evalue": "[Errno 2] No such file or directory: 'abc.txt'",
     "output_type": "error",
     "traceback": [
      "\u001b[1;31m---------------------------------------------------------------------------\u001b[0m",
      "\u001b[1;31mFileNotFoundError\u001b[0m                         Traceback (most recent call last)",
      "Input \u001b[1;32mIn [37]\u001b[0m, in \u001b[0;36m<cell line: 4>\u001b[1;34m()\u001b[0m\n\u001b[0;32m      1\u001b[0m \u001b[38;5;66;03m# e\u001b[39;00m\n\u001b[0;32m      2\u001b[0m \u001b[38;5;66;03m# Trying to open a file that does not exist, such as mistyping the file name or looking in the wrong directory.\u001b[39;00m\n\u001b[1;32m----> 4\u001b[0m infile \u001b[38;5;241m=\u001b[39m \u001b[38;5;28;43mopen\u001b[39;49m\u001b[43m(\u001b[49m\u001b[38;5;124;43m'\u001b[39;49m\u001b[38;5;124;43mabc.txt\u001b[39;49m\u001b[38;5;124;43m'\u001b[39;49m\u001b[43m,\u001b[49m\u001b[43m \u001b[49m\u001b[38;5;124;43m'\u001b[39;49m\u001b[38;5;124;43mr\u001b[39;49m\u001b[38;5;124;43m'\u001b[39;49m\u001b[43m)\u001b[49m\n",
      "\u001b[1;31mFileNotFoundError\u001b[0m: [Errno 2] No such file or directory: 'abc.txt'"
     ]
    }
   ],
   "source": [
    "# e\n",
    "# Trying to open a file that does not exist, such as mistyping the file name or looking in the wrong directory.\n",
    "\n",
    "infile = open('abc.txt', 'r')\n",
    "\n",
    "\n",
    "#FileNotFoundError: [Errno 2] No such file or directory: 'abc.txt'  ## error because fil"
   ]
  },
  {
   "cell_type": "code",
   "execution_count": null,
   "id": "f5168dc3",
   "metadata": {},
   "outputs": [],
   "source": [
    "# Question 10\n",
    "# Encryption is the process of hiding the meaning of a text by substituting letters in the message with other letters, \n",
    "# according to some system. If the process is successful, no one but the intended recipient can understand the encrypted message.\n",
    "# Cryptanalysis refers to attempts to undo the encryption, even if some details of the encryption are unknown\n",
    "# (for example, if an encrypted message has been intercepted). The first step of cryptanalysis is often to build up a table of \n",
    "# letter frequencies in the encrypted text. Assume that the string letters is already defined as 'abcdefghijklmnopqrstuvwxyz'. \n",
    "# Write a function called frequencies() that takes a string as its only parameter, and returns a list of integers, showing the \n",
    "# number of times each character appears in the text. Your function may ignore any characters that are not in letters.  \n",
    " "
   ]
  },
  {
   "cell_type": "code",
   "execution_count": 23,
   "id": "09a5bd36",
   "metadata": {},
   "outputs": [
    {
     "data": {
      "text/plain": [
       "[2, 0, 0, 2, 2, 0, 1, 3, 2, 0, 1, 0, 0, 2, 4, 0, 0, 1, 0, 3, 2, 0, 0, 0, 2]"
      ]
     },
     "execution_count": 23,
     "metadata": {},
     "output_type": "execute_result"
    }
   ],
   "source": [
    "alphabetLetters=\"abcdefghijklmnopqrstuvwxyz\"    \n",
    "def frequencies(p):                                                   \n",
    "                                      \n",
    "    decode=[]                                                                                     \n",
    "    for q in range(0,len(alphabetLetters)-1):    \n",
    "        decode.append((p.count(alphabetLetters[q])))    \n",
    "    return decode                                     \n",
    "\n",
    "frequencies('What the do you think you are doing?')  "
   ]
  },
  {
   "cell_type": "code",
   "execution_count": null,
   "id": "a8071bd2",
   "metadata": {},
   "outputs": [],
   "source": []
  }
 ],
 "metadata": {
  "kernelspec": {
   "display_name": "Python 3 (ipykernel)",
   "language": "python",
   "name": "python3"
  },
  "language_info": {
   "codemirror_mode": {
    "name": "ipython",
    "version": 3
   },
   "file_extension": ".py",
   "mimetype": "text/x-python",
   "name": "python",
   "nbconvert_exporter": "python",
   "pygments_lexer": "ipython3",
   "version": "3.9.12"
  }
 },
 "nbformat": 4,
 "nbformat_minor": 5
}
