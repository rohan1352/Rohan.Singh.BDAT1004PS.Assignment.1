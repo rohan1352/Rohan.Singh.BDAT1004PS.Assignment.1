{
 "cells": [
  {
   "cell_type": "code",
   "execution_count": 25,
   "id": "69bcc31d",
   "metadata": {},
   "outputs": [
    {
     "name": "stdout",
     "output_type": "stream",
     "text": [
      "34\r\n"
     ]
    }
   ],
   "source": [
    "// quest 2. a\n",
    "string a = \"Supercalifragilisticexpialidocious\";\n",
    "int count = a.Length;\n",
    "Console.WriteLine(count);"
   ]
  },
  {
   "cell_type": "code",
   "execution_count": 26,
   "id": "a6d7a7f0",
   "metadata": {},
   "outputs": [
    {
     "name": "stdout",
     "output_type": "stream",
     "text": [
      "18\n",
      "yes\n"
     ]
    }
   ],
   "source": [
    "// quest 2. b\n",
    "string a = \"Supercalifragilisticexpialidocious\";\n",
    "int b = a.IndexOf(\"ice\");\n",
    "Console.WriteLine(b);\n",
    "Console.WriteLine(\"yes\");"
   ]
  },
  {
   "cell_type": "code",
   "execution_count": 14,
   "id": "5f25ec52",
   "metadata": {},
   "outputs": [
    {
     "name": "stdout",
     "output_type": "stream",
     "text": [
      "Supercalifragilisticexpialidocious,\r\n"
     ]
    }
   ],
   "source": [
    "// quest 2. c\n",
    "string line = \"Supercalifragilisticexpialidocious, Honorificabilitudinitatibus, Bababadalgharaghtakamminarronnkonn\";\n",
    "string[] text = line.Split(new[] { \" \" }, StringSplitOptions.None);\n",
    "string letter = \"\";\n",
    "int str = 0;\n",
    "foreach (String s in text)\n",
    "{\n",
    "    if (s.Length > str)\n",
    "    {\n",
    "        word = s;\n",
    "        str = s.Length;\n",
    "    }\n",
    "}\n",
    "\n",
    "Console.WriteLine(word);"
   ]
  },
  {
   "cell_type": "code",
   "execution_count": 21,
   "id": "d3c026de",
   "metadata": {},
   "outputs": [],
   "source": []
  },
  {
   "cell_type": "code",
   "execution_count": 20,
   "id": "f935f752",
   "metadata": {},
   "outputs": [
    {
     "ename": "Unhandled Exception",
     "evalue": "(7,2): error CS1597: Semicolon after method or accessor block is not valid",
     "output_type": "error",
     "traceback": [
      "(7,2): error CS1597: Semicolon after method or accessor block is not valid"
     ]
    }
   ],
   "source": [
    "// quest 5\n",
    "\n",
    "bool FindPoint(int x1, int y1, int x2, int y2, int x, int y)\n",
    "{\n",
    "    if (x > x1 & x < x2 & y > y1 & y < y2)\n",
    "        return true;\n",
    "    else\n",
    "        return false;\n",
    "};\n",
    "\n",
    "FindPoint(1, 1, 0, 0, 2, 3);\n"
   ]
  },
  {
   "cell_type": "code",
   "execution_count": null,
   "id": "e2ebd8a0",
   "metadata": {},
   "outputs": [],
   "source": []
  }
 ],
 "metadata": {
  "kernelspec": {
   "display_name": ".NET (C#)",
   "language": "C#",
   "name": ".net-csharp"
  },
  "language_info": {
   "file_extension": ".cs",
   "mimetype": "text/x-csharp",
   "name": "C#",
   "pygments_lexer": "csharp",
   "version": "8.0"
  }
 },
 "nbformat": 4,
 "nbformat_minor": 5
}
